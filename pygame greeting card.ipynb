{
 "cells": [
  {
   "cell_type": "code",
   "execution_count": 68,
   "id": "fd2c0039",
   "metadata": {},
   "outputs": [],
   "source": [
    "import pygame\n",
    "from pygame import mixer\n",
    "pygame.init()\n",
    "mixer.init()\n",
    "\n",
    "\n",
    "#84.1 × 118.9 cm\n",
    "WIDTH= 400\n",
    "HEIGHT=(WIDTH *(118.9/84.1))\n",
    "surface=pygame.display.set_mode((WIDTH,HEIGHT))\n",
    "WHITE= (255,255,255)\n",
    "BLACK=(0,0,0)\n",
    "surface.fill(WHITE)\n",
    "\n",
    "\n",
    "font=pygame.font.Font(\"freesansbold.ttf\",24)\n",
    "#text surface\n",
    "text1=font.render('You are in our prayers.', True, BLACK)\n",
    "#create a rectangle object\n",
    "text1Rect=text1.get_rect()\n",
    "text1Rect.center=(WIDTH//2,HEIGHT-50)\n",
    "pygame.display.flip()\n",
    "\n",
    "text2=font.render('-The Junker Family', True, BLACK)\n",
    "text2Rect=text2.get_rect()\n",
    "text2Rect.center=(WIDTH//2,HEIGHT-25)\n",
    "pygame.display.flip()\n",
    "\n",
    "\n",
    "\n",
    "\n",
    "img=pygame.image.load(\"getwellsoon.jfif\").convert()\n",
    "resized_image=pygame.transform.scale(img, (WIDTH,HEIGHT-100))\n",
    "x=0 #coordinate of the image\n",
    "y=0 #coordinate of the image\n",
    "surface.blit(resized_image,(x,y))\n",
    "pygame.display.flip()\n",
    "\n",
    "\n",
    "mixer.init()\n",
    "mixer.music.load('getwellsoon.mp3')\n",
    "mixer.music.set_volume(1)\n",
    "mixer.music.play(start=7.5)\n",
    "\n",
    "\n",
    "active=True\n",
    "while active:\n",
    "    surface.blit(text1,text1Rect) ##added for text window\n",
    "    surface.blit(text2,text2Rect)\n",
    "    \n",
    "    for event in pygame.event.get():\n",
    "        pygame.display.update()\n",
    "        if event.type==pygame.QUIT:\n",
    "            active=False\n",
    "            mixer.music.stop()\n",
    "            pygame.quit()\n",
    "    \n",
    "            \n",
    "    "
   ]
  },
  {
   "cell_type": "code",
   "execution_count": null,
   "id": "4741f57e",
   "metadata": {},
   "outputs": [],
   "source": [
    "from pygame import mixer\n",
    "\n",
    "mixer.init()\n",
    "mixer.music.load('music1.mp3')\n",
    "mixer.music.set_volume(1)\n",
    "\n",
    "#start playing the song\n",
    "mixer.music.play()\n",
    "\n",
    "while True:\n",
    "    print(\"Press 'p' to pause, 'r' to resume, 'e' for exit the program\")\n",
    "    query = input(' ')\n",
    "    \n",
    "    if query==\"p\":\n",
    "        mixer.music.pause()\n",
    "    elif query== 'r':\n",
    "        mixer.music.unpause()\n",
    "    elif query== 'e':\n",
    "        mixer.music.stop()\n",
    "        break"
   ]
  },
  {
   "cell_type": "code",
   "execution_count": 30,
   "id": "ca5502fd",
   "metadata": {},
   "outputs": [
    {
     "name": "stdout",
     "output_type": "stream",
     "text": [
      "Help on built-in function render:\n",
      "\n",
      "render(...) method of pygame.font.Font instance\n",
      "    render(text, antialias, color, background=None) -> Surface\n",
      "    draw text on a new Surface\n",
      "\n"
     ]
    }
   ],
   "source": [
    "help (font.render)"
   ]
  }
 ],
 "metadata": {
  "kernelspec": {
   "display_name": "Python 3 (ipykernel)",
   "language": "python",
   "name": "python3"
  },
  "language_info": {
   "codemirror_mode": {
    "name": "ipython",
    "version": 3
   },
   "file_extension": ".py",
   "mimetype": "text/x-python",
   "name": "python",
   "nbconvert_exporter": "python",
   "pygments_lexer": "ipython3",
   "version": "3.9.12"
  }
 },
 "nbformat": 4,
 "nbformat_minor": 5
}
